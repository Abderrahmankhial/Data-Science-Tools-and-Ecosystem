{
 "cells": [
  {
   "cell_type": "markdown",
   "id": "4c428c09-80cf-4c17-905d-77999bc37a84",
   "metadata": {},
   "source": [
    "# Data Science Tools and Ecosystem"
   ]
  },
  {
   "cell_type": "markdown",
   "id": "58790ed2-e8de-4162-826b-dff575e2001e",
   "metadata": {},
   "source": [
    "#### In this notebook, Data Science Tools and Ecosystem are summarized."
   ]
  },
  {
   "cell_type": "markdown",
   "id": "44d59918-9dee-4a6a-9fc3-de036a282bf6",
   "metadata": {},
   "source": [
    "## Objectives:\n",
    "* List popular languages that Data Scientists use.\n",
    "* List commonly used libraries used by Data Scientists.\n",
    "* Comment on Data Science tools."
   ]
  },
  {
   "cell_type": "markdown",
   "id": "fb338145-d6d0-4802-97f4-4998892b8f13",
   "metadata": {},
   "source": [
    "## Some of the popular languages that Data Scientists use are:\n",
    "1. python \n",
    "2. R\n",
    "3. julia\n",
    "4. java"
   ]
  },
  {
   "cell_type": "markdown",
   "id": "ee227da0-bfb4-4e0b-84a7-7e0666a5db46",
   "metadata": {},
   "source": [
    "## Some of the commonly used libraries used by Data Scientists include:\n",
    "1. tensorflow \n",
    "2. NumPy.\n",
    "3. SciPy.\n",
    "4. Pandas.\n",
    "5. Matplotlib."
   ]
  },
  {
   "cell_type": "markdown",
   "id": "dee1e442-cbac-4566-86f7-08e5795ef8b1",
   "metadata": {},
   "source": [
    "## Data Science Tools\n",
    "<table>\n",
    "<tr>\n",
    "<td>SAS </td>\n",
    "</tr>\n",
    "<tr>\n",
    "<td>Apache spark  </td>\n",
    "</tr>   \n",
    "<tr>\n",
    "<td>Apache Hadoop  </td>\n",
    "</tr>    \n",
    "</table>"
   ]
  },
  {
   "cell_type": "markdown",
   "id": "ba259ba7-7cd3-4567-bf05-83104be9ca95",
   "metadata": {},
   "source": [
    "### Below are a few examples of evaluating arithmetic expressions in Python\n",
    "```python\n",
    "# Arithmetic operations\n",
    "code = compile(\"5 + 4\", \"<string>\", \"eval\")\n",
    "eval(code)\n",
    "# Result: 9\n",
    "```\n",
    "```python\n",
    "code1 = compile(\"(5 + 7) * 2\", \"<string>\", \"eval\")\n",
    "eval(code1)\n",
    "# Result: 24\n",
    "```\n",
    "```python\n",
    "import math\n",
    "# Volume of a sphere\n",
    "code2 = compile(\"4 / 3 * math.pi * math.pow(25, 3)\", \"<string>\", \"eval\")\n",
    "eval(code2)\n",
    "# Result: 65449.84694978735\n",
    "```"
   ]
  },
  {
   "cell_type": "code",
   "execution_count": 2,
   "id": "e5e301aa-a889-4942-b2ac-863a5d28bb9a",
   "metadata": {},
   "outputs": [
    {
     "data": {
      "text/plain": [
       "17"
      ]
     },
     "execution_count": 2,
     "metadata": {},
     "output_type": "execute_result"
    }
   ],
   "source": [
    "# This a simple arithmetic expression to mutiply then add integers\n",
    "(3*4)+5\n",
    "#result 17"
   ]
  },
  {
   "cell_type": "code",
   "execution_count": 4,
   "id": "7f49f2f9-aebd-4945-a92b-5494d0f7d85a",
   "metadata": {},
   "outputs": [
    {
     "name": "stdout",
     "output_type": "stream",
     "text": [
      "0 days, 3.3333333333333335 hours, 0 mins. \n"
     ]
    }
   ],
   "source": [
    "## This will convert 200 minutes to hours by diving by 60\n",
    "days = 0\n",
    "hours = 0\n",
    "mins = 0\n",
    "\n",
    "time = 200\n",
    "#days = time / 1440\n",
    "leftover_minutes = time % 1440\n",
    "hours = leftover_minutes / 60\n",
    "#mins = time - (days*1440) - (hours*60)\n",
    "print(str(days) + \" days, \" + str(hours) + \" hours, \" + str(mins) +  \" mins. \")\n",
    "\n",
    "# Result: 3.3333333333333335 hours"
   ]
  },
  {
   "cell_type": "markdown",
   "id": "44f22222-3e15-4137-98cf-ac2caa95659d",
   "metadata": {},
   "source": [
    "# Author Khial Abderrahmane"
   ]
  },
  {
   "cell_type": "code",
   "execution_count": null,
   "id": "a2fa1c60-91b1-4647-8214-bbd8ea2934a9",
   "metadata": {},
   "outputs": [],
   "source": []
  }
 ],
 "metadata": {
  "kernelspec": {
   "display_name": "Python",
   "language": "python",
   "name": "conda-env-python-py"
  },
  "language_info": {
   "codemirror_mode": {
    "name": "ipython",
    "version": 3
   },
   "file_extension": ".py",
   "mimetype": "text/x-python",
   "name": "python",
   "nbconvert_exporter": "python",
   "pygments_lexer": "ipython3",
   "version": "3.7.12"
  }
 },
 "nbformat": 4,
 "nbformat_minor": 5
}
